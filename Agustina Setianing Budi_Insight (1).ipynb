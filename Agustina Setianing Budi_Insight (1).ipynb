{
 "cells": [
  {
   "cell_type": "markdown",
   "id": "0d875367",
   "metadata": {},
   "source": [
    "## Agustina Setianing Budi_Insight"
   ]
  },
  {
   "cell_type": "markdown",
   "id": "c62449e3",
   "metadata": {},
   "source": [
    "## Prediksi Harga Saha dengan metode Long Short Therm Memory (LSTM)"
   ]
  },
  {
   "cell_type": "markdown",
   "id": "5c8ff5dc",
   "metadata": {},
   "source": [
    "### Tahap 1 Import Library"
   ]
  },
  {
   "cell_type": "code",
   "execution_count": 1,
   "id": "bace67dc",
   "metadata": {},
   "outputs": [],
   "source": [
    "from __future__ import print_function\n",
    "import os\n",
    "import math\n",
    "import pandas as pd\n",
    "import numpy as np\n",
    "%matplotlib inline\n",
    "from matplotlib import pyplot as plt\n",
    "import seaborn as sns\n",
    "from statsmodels.tsa import stattools\n",
    "from pandas.plotting import autocorrelation_plot\n",
    "from statsmodels.tsa.seasonal import seasonal_decompose\n",
    "import warnings \n",
    "warnings.filterwarnings('ignore')\n",
    "from sklearn.preprocessing import MinMaxScaler\n",
    "from keras.models import Sequential\n",
    "from keras.layers import Dense, LSTM\n",
    "plt.style.use('fivethirtyeight')"
   ]
  },
  {
   "cell_type": "markdown",
   "id": "582e765c",
   "metadata": {},
   "source": [
    "### Tahap 2 Data Understanding"
   ]
  },
  {
   "cell_type": "markdown",
   "id": "c4fe6c79",
   "metadata": {},
   "source": [
    "Mengimport dataset yang akan digunakan dalam hal ini saham yang akan di analisis adalah saham PT Tekom Indonesia (Persero) Tbk "
   ]
  },
  {
   "cell_type": "code",
   "execution_count": 2,
   "id": "b47117b8",
   "metadata": {},
   "outputs": [
    {
     "data": {
      "text/html": [
       "<div>\n",
       "<style scoped>\n",
       "    .dataframe tbody tr th:only-of-type {\n",
       "        vertical-align: middle;\n",
       "    }\n",
       "\n",
       "    .dataframe tbody tr th {\n",
       "        vertical-align: top;\n",
       "    }\n",
       "\n",
       "    .dataframe thead th {\n",
       "        text-align: right;\n",
       "    }\n",
       "</style>\n",
       "<table border=\"1\" class=\"dataframe\">\n",
       "  <thead>\n",
       "    <tr style=\"text-align: right;\">\n",
       "      <th></th>\n",
       "      <th>Date</th>\n",
       "      <th>Open</th>\n",
       "      <th>High</th>\n",
       "      <th>Low</th>\n",
       "      <th>Close</th>\n",
       "      <th>Adj Close</th>\n",
       "      <th>Volume</th>\n",
       "    </tr>\n",
       "  </thead>\n",
       "  <tbody>\n",
       "    <tr>\n",
       "      <th>0</th>\n",
       "      <td>2017-01-02</td>\n",
       "      <td>3980.0</td>\n",
       "      <td>3980.0</td>\n",
       "      <td>3980.0</td>\n",
       "      <td>3980.0</td>\n",
       "      <td>3310.131592</td>\n",
       "      <td>0.0</td>\n",
       "    </tr>\n",
       "    <tr>\n",
       "      <th>1</th>\n",
       "      <td>2017-01-03</td>\n",
       "      <td>3950.0</td>\n",
       "      <td>3990.0</td>\n",
       "      <td>3920.0</td>\n",
       "      <td>3950.0</td>\n",
       "      <td>3285.180664</td>\n",
       "      <td>71660600.0</td>\n",
       "    </tr>\n",
       "    <tr>\n",
       "      <th>2</th>\n",
       "      <td>2017-01-04</td>\n",
       "      <td>3880.0</td>\n",
       "      <td>3980.0</td>\n",
       "      <td>3880.0</td>\n",
       "      <td>3950.0</td>\n",
       "      <td>3285.180664</td>\n",
       "      <td>68494500.0</td>\n",
       "    </tr>\n",
       "    <tr>\n",
       "      <th>3</th>\n",
       "      <td>2017-01-05</td>\n",
       "      <td>3960.0</td>\n",
       "      <td>4030.0</td>\n",
       "      <td>3940.0</td>\n",
       "      <td>3950.0</td>\n",
       "      <td>3285.180664</td>\n",
       "      <td>74018400.0</td>\n",
       "    </tr>\n",
       "    <tr>\n",
       "      <th>4</th>\n",
       "      <td>2017-01-06</td>\n",
       "      <td>3970.0</td>\n",
       "      <td>4010.0</td>\n",
       "      <td>3960.0</td>\n",
       "      <td>4000.0</td>\n",
       "      <td>3326.765381</td>\n",
       "      <td>44136900.0</td>\n",
       "    </tr>\n",
       "    <tr>\n",
       "      <th>5</th>\n",
       "      <td>2017-01-09</td>\n",
       "      <td>4000.0</td>\n",
       "      <td>4030.0</td>\n",
       "      <td>3990.0</td>\n",
       "      <td>4020.0</td>\n",
       "      <td>3343.399414</td>\n",
       "      <td>85713200.0</td>\n",
       "    </tr>\n",
       "    <tr>\n",
       "      <th>6</th>\n",
       "      <td>2017-01-10</td>\n",
       "      <td>4030.0</td>\n",
       "      <td>4030.0</td>\n",
       "      <td>3960.0</td>\n",
       "      <td>4000.0</td>\n",
       "      <td>3326.765381</td>\n",
       "      <td>44608000.0</td>\n",
       "    </tr>\n",
       "    <tr>\n",
       "      <th>7</th>\n",
       "      <td>2017-01-11</td>\n",
       "      <td>3960.0</td>\n",
       "      <td>4000.0</td>\n",
       "      <td>3950.0</td>\n",
       "      <td>3960.0</td>\n",
       "      <td>3293.497559</td>\n",
       "      <td>47226300.0</td>\n",
       "    </tr>\n",
       "    <tr>\n",
       "      <th>8</th>\n",
       "      <td>2017-01-12</td>\n",
       "      <td>3920.0</td>\n",
       "      <td>3970.0</td>\n",
       "      <td>3920.0</td>\n",
       "      <td>3960.0</td>\n",
       "      <td>3293.497559</td>\n",
       "      <td>45738500.0</td>\n",
       "    </tr>\n",
       "    <tr>\n",
       "      <th>9</th>\n",
       "      <td>2017-01-13</td>\n",
       "      <td>3930.0</td>\n",
       "      <td>3970.0</td>\n",
       "      <td>3930.0</td>\n",
       "      <td>3950.0</td>\n",
       "      <td>3285.180664</td>\n",
       "      <td>64704600.0</td>\n",
       "    </tr>\n",
       "  </tbody>\n",
       "</table>\n",
       "</div>"
      ],
      "text/plain": [
       "         Date    Open    High     Low   Close    Adj Close      Volume\n",
       "0  2017-01-02  3980.0  3980.0  3980.0  3980.0  3310.131592         0.0\n",
       "1  2017-01-03  3950.0  3990.0  3920.0  3950.0  3285.180664  71660600.0\n",
       "2  2017-01-04  3880.0  3980.0  3880.0  3950.0  3285.180664  68494500.0\n",
       "3  2017-01-05  3960.0  4030.0  3940.0  3950.0  3285.180664  74018400.0\n",
       "4  2017-01-06  3970.0  4010.0  3960.0  4000.0  3326.765381  44136900.0\n",
       "5  2017-01-09  4000.0  4030.0  3990.0  4020.0  3343.399414  85713200.0\n",
       "6  2017-01-10  4030.0  4030.0  3960.0  4000.0  3326.765381  44608000.0\n",
       "7  2017-01-11  3960.0  4000.0  3950.0  3960.0  3293.497559  47226300.0\n",
       "8  2017-01-12  3920.0  3970.0  3920.0  3960.0  3293.497559  45738500.0\n",
       "9  2017-01-13  3930.0  3970.0  3930.0  3950.0  3285.180664  64704600.0"
      ]
     },
     "execution_count": 2,
     "metadata": {},
     "output_type": "execute_result"
    }
   ],
   "source": [
    "#Import Data\n",
    "df = pd.read_csv(\"TLKM.JK1.csv\")\n",
    "df.head(10)"
   ]
  },
  {
   "cell_type": "code",
   "execution_count": 3,
   "id": "4e1a4b32",
   "metadata": {},
   "outputs": [
    {
     "name": "stdout",
     "output_type": "stream",
     "text": [
      "Total Data : 1422 \n",
      "\n",
      "Date range from : ['2017-01-02'] to ['2022-09-01']\n"
     ]
    }
   ],
   "source": [
    "# Memunculkan Jumlah total data dan renge tanggal dataset\n",
    "print(\"Total Data : {} \\n\".format(len(df)))\n",
    "print(\"Date range from : {} to {}\".format(df.head(1)['Date'].values, df.tail(1)['Date'].values))"
   ]
  },
  {
   "cell_type": "code",
   "execution_count": 4,
   "id": "046ac696",
   "metadata": {},
   "outputs": [
    {
     "name": "stdout",
     "output_type": "stream",
     "text": [
      "<class 'pandas.core.frame.DataFrame'>\n",
      "RangeIndex: 1422 entries, 0 to 1421\n",
      "Data columns (total 7 columns):\n",
      " #   Column     Non-Null Count  Dtype  \n",
      "---  ------     --------------  -----  \n",
      " 0   Date       1422 non-null   object \n",
      " 1   Open       1421 non-null   float64\n",
      " 2   High       1421 non-null   float64\n",
      " 3   Low        1421 non-null   float64\n",
      " 4   Close      1421 non-null   float64\n",
      " 5   Adj Close  1421 non-null   float64\n",
      " 6   Volume     1421 non-null   float64\n",
      "dtypes: float64(6), object(1)\n",
      "memory usage: 77.9+ KB\n"
     ]
    }
   ],
   "source": [
    "# Menampilkan informasi umum mengenai dataset yang digunakakn\n",
    "df.info()"
   ]
  },
  {
   "cell_type": "code",
   "execution_count": 5,
   "id": "5f65f363",
   "metadata": {},
   "outputs": [
    {
     "name": "stdout",
     "output_type": "stream",
     "text": [
      "     Open  High  Low  Close  Adj Close  Volume\n",
      "636   NaN   NaN  NaN    NaN        NaN     NaN\n"
     ]
    }
   ],
   "source": [
    "# Cek nilai \"NaN\" Pada kolom \n",
    "null_columns=df.columns[df.isnull().any()]\n",
    "print(df[df[\"Open\"].isnull()][null_columns])"
   ]
  },
  {
   "cell_type": "markdown",
   "id": "944225cd",
   "metadata": {},
   "source": [
    "Terdapat nilai 'Nan' pada dataset. Berarti terdapat nilai yang tidak diketahui pada dataset. Terdapat 636 daya dengan nilai 'Nan\" dari total 1422. Karena terdapapt nilai Nan maka akan dihapus, karena tidak dibutuhkan."
   ]
  },
  {
   "cell_type": "code",
   "execution_count": 6,
   "id": "03cc60c5",
   "metadata": {},
   "outputs": [
    {
     "data": {
      "text/html": [
       "<div>\n",
       "<style scoped>\n",
       "    .dataframe tbody tr th:only-of-type {\n",
       "        vertical-align: middle;\n",
       "    }\n",
       "\n",
       "    .dataframe tbody tr th {\n",
       "        vertical-align: top;\n",
       "    }\n",
       "\n",
       "    .dataframe thead th {\n",
       "        text-align: right;\n",
       "    }\n",
       "</style>\n",
       "<table border=\"1\" class=\"dataframe\">\n",
       "  <thead>\n",
       "    <tr style=\"text-align: right;\">\n",
       "      <th></th>\n",
       "      <th>Date</th>\n",
       "      <th>Open</th>\n",
       "      <th>High</th>\n",
       "      <th>Low</th>\n",
       "      <th>Close</th>\n",
       "      <th>Adj Close</th>\n",
       "      <th>Volume</th>\n",
       "    </tr>\n",
       "  </thead>\n",
       "  <tbody>\n",
       "    <tr>\n",
       "      <th>0</th>\n",
       "      <td>2017-01-02</td>\n",
       "      <td>3980.0</td>\n",
       "      <td>3980.0</td>\n",
       "      <td>3980.0</td>\n",
       "      <td>3980.0</td>\n",
       "      <td>3310.131592</td>\n",
       "      <td>0.0</td>\n",
       "    </tr>\n",
       "    <tr>\n",
       "      <th>1</th>\n",
       "      <td>2017-01-03</td>\n",
       "      <td>3950.0</td>\n",
       "      <td>3990.0</td>\n",
       "      <td>3920.0</td>\n",
       "      <td>3950.0</td>\n",
       "      <td>3285.180664</td>\n",
       "      <td>71660600.0</td>\n",
       "    </tr>\n",
       "    <tr>\n",
       "      <th>2</th>\n",
       "      <td>2017-01-04</td>\n",
       "      <td>3880.0</td>\n",
       "      <td>3980.0</td>\n",
       "      <td>3880.0</td>\n",
       "      <td>3950.0</td>\n",
       "      <td>3285.180664</td>\n",
       "      <td>68494500.0</td>\n",
       "    </tr>\n",
       "    <tr>\n",
       "      <th>3</th>\n",
       "      <td>2017-01-05</td>\n",
       "      <td>3960.0</td>\n",
       "      <td>4030.0</td>\n",
       "      <td>3940.0</td>\n",
       "      <td>3950.0</td>\n",
       "      <td>3285.180664</td>\n",
       "      <td>74018400.0</td>\n",
       "    </tr>\n",
       "    <tr>\n",
       "      <th>4</th>\n",
       "      <td>2017-01-06</td>\n",
       "      <td>3970.0</td>\n",
       "      <td>4010.0</td>\n",
       "      <td>3960.0</td>\n",
       "      <td>4000.0</td>\n",
       "      <td>3326.765381</td>\n",
       "      <td>44136900.0</td>\n",
       "    </tr>\n",
       "  </tbody>\n",
       "</table>\n",
       "</div>"
      ],
      "text/plain": [
       "         Date    Open    High     Low   Close    Adj Close      Volume\n",
       "0  2017-01-02  3980.0  3980.0  3980.0  3980.0  3310.131592         0.0\n",
       "1  2017-01-03  3950.0  3990.0  3920.0  3950.0  3285.180664  71660600.0\n",
       "2  2017-01-04  3880.0  3980.0  3880.0  3950.0  3285.180664  68494500.0\n",
       "3  2017-01-05  3960.0  4030.0  3940.0  3950.0  3285.180664  74018400.0\n",
       "4  2017-01-06  3970.0  4010.0  3960.0  4000.0  3326.765381  44136900.0"
      ]
     },
     "execution_count": 6,
     "metadata": {},
     "output_type": "execute_result"
    }
   ],
   "source": [
    "# melakukan penghapusan NaN\n",
    "df = df.drop([636])\n",
    "df.reset_index(drop=True,inplace=True)\n",
    "df.head()"
   ]
  },
  {
   "cell_type": "code",
   "execution_count": 7,
   "id": "5afcc0ca",
   "metadata": {},
   "outputs": [
    {
     "data": {
      "text/html": [
       "<div>\n",
       "<style scoped>\n",
       "    .dataframe tbody tr th:only-of-type {\n",
       "        vertical-align: middle;\n",
       "    }\n",
       "\n",
       "    .dataframe tbody tr th {\n",
       "        vertical-align: top;\n",
       "    }\n",
       "\n",
       "    .dataframe thead th {\n",
       "        text-align: right;\n",
       "    }\n",
       "</style>\n",
       "<table border=\"1\" class=\"dataframe\">\n",
       "  <thead>\n",
       "    <tr style=\"text-align: right;\">\n",
       "      <th></th>\n",
       "      <th>Open</th>\n",
       "      <th>High</th>\n",
       "      <th>Low</th>\n",
       "      <th>Close</th>\n",
       "      <th>Adj Close</th>\n",
       "      <th>Volume</th>\n",
       "    </tr>\n",
       "  </thead>\n",
       "  <tbody>\n",
       "    <tr>\n",
       "      <th>count</th>\n",
       "      <td>1421.000000</td>\n",
       "      <td>1421.000000</td>\n",
       "      <td>1421.000000</td>\n",
       "      <td>1421.000000</td>\n",
       "      <td>1421.000000</td>\n",
       "      <td>1.421000e+03</td>\n",
       "    </tr>\n",
       "    <tr>\n",
       "      <th>mean</th>\n",
       "      <td>3827.741027</td>\n",
       "      <td>3869.106263</td>\n",
       "      <td>3785.608726</td>\n",
       "      <td>3827.171006</td>\n",
       "      <td>3416.287764</td>\n",
       "      <td>1.021061e+08</td>\n",
       "    </tr>\n",
       "    <tr>\n",
       "      <th>std</th>\n",
       "      <td>490.449096</td>\n",
       "      <td>487.302987</td>\n",
       "      <td>492.470774</td>\n",
       "      <td>492.369542</td>\n",
       "      <td>462.616891</td>\n",
       "      <td>6.629501e+07</td>\n",
       "    </tr>\n",
       "    <tr>\n",
       "      <th>min</th>\n",
       "      <td>2550.000000</td>\n",
       "      <td>2590.000000</td>\n",
       "      <td>2450.000000</td>\n",
       "      <td>2560.000000</td>\n",
       "      <td>2289.641846</td>\n",
       "      <td>0.000000e+00</td>\n",
       "    </tr>\n",
       "    <tr>\n",
       "      <th>25%</th>\n",
       "      <td>3450.000000</td>\n",
       "      <td>3490.000000</td>\n",
       "      <td>3400.000000</td>\n",
       "      <td>3450.000000</td>\n",
       "      <td>3111.957031</td>\n",
       "      <td>6.168190e+07</td>\n",
       "    </tr>\n",
       "    <tr>\n",
       "      <th>50%</th>\n",
       "      <td>3870.000000</td>\n",
       "      <td>3900.000000</td>\n",
       "      <td>3840.000000</td>\n",
       "      <td>3870.000000</td>\n",
       "      <td>3357.914063</td>\n",
       "      <td>8.730300e+07</td>\n",
       "    </tr>\n",
       "    <tr>\n",
       "      <th>75%</th>\n",
       "      <td>4190.000000</td>\n",
       "      <td>4220.000000</td>\n",
       "      <td>4150.000000</td>\n",
       "      <td>4190.000000</td>\n",
       "      <td>3708.230957</td>\n",
       "      <td>1.234112e+08</td>\n",
       "    </tr>\n",
       "    <tr>\n",
       "      <th>max</th>\n",
       "      <td>4850.000000</td>\n",
       "      <td>4850.000000</td>\n",
       "      <td>4780.000000</td>\n",
       "      <td>4800.000000</td>\n",
       "      <td>4750.000000</td>\n",
       "      <td>6.241426e+08</td>\n",
       "    </tr>\n",
       "  </tbody>\n",
       "</table>\n",
       "</div>"
      ],
      "text/plain": [
       "              Open         High          Low        Close    Adj Close  \\\n",
       "count  1421.000000  1421.000000  1421.000000  1421.000000  1421.000000   \n",
       "mean   3827.741027  3869.106263  3785.608726  3827.171006  3416.287764   \n",
       "std     490.449096   487.302987   492.470774   492.369542   462.616891   \n",
       "min    2550.000000  2590.000000  2450.000000  2560.000000  2289.641846   \n",
       "25%    3450.000000  3490.000000  3400.000000  3450.000000  3111.957031   \n",
       "50%    3870.000000  3900.000000  3840.000000  3870.000000  3357.914063   \n",
       "75%    4190.000000  4220.000000  4150.000000  4190.000000  3708.230957   \n",
       "max    4850.000000  4850.000000  4780.000000  4800.000000  4750.000000   \n",
       "\n",
       "             Volume  \n",
       "count  1.421000e+03  \n",
       "mean   1.021061e+08  \n",
       "std    6.629501e+07  \n",
       "min    0.000000e+00  \n",
       "25%    6.168190e+07  \n",
       "50%    8.730300e+07  \n",
       "75%    1.234112e+08  \n",
       "max    6.241426e+08  "
      ]
     },
     "execution_count": 7,
     "metadata": {},
     "output_type": "execute_result"
    }
   ],
   "source": [
    "# pendeskripsian data\n",
    "df.describe()"
   ]
  },
  {
   "cell_type": "code",
   "execution_count": 8,
   "id": "ffa210f6",
   "metadata": {},
   "outputs": [
    {
     "data": {
      "text/html": [
       "<div>\n",
       "<style scoped>\n",
       "    .dataframe tbody tr th:only-of-type {\n",
       "        vertical-align: middle;\n",
       "    }\n",
       "\n",
       "    .dataframe tbody tr th {\n",
       "        vertical-align: top;\n",
       "    }\n",
       "\n",
       "    .dataframe thead th {\n",
       "        text-align: right;\n",
       "    }\n",
       "</style>\n",
       "<table border=\"1\" class=\"dataframe\">\n",
       "  <thead>\n",
       "    <tr style=\"text-align: right;\">\n",
       "      <th></th>\n",
       "      <th>Date</th>\n",
       "      <th>Close</th>\n",
       "    </tr>\n",
       "  </thead>\n",
       "  <tbody>\n",
       "    <tr>\n",
       "      <th>0</th>\n",
       "      <td>2017-01-02</td>\n",
       "      <td>3980.0</td>\n",
       "    </tr>\n",
       "    <tr>\n",
       "      <th>1</th>\n",
       "      <td>2017-01-03</td>\n",
       "      <td>3950.0</td>\n",
       "    </tr>\n",
       "    <tr>\n",
       "      <th>2</th>\n",
       "      <td>2017-01-04</td>\n",
       "      <td>3950.0</td>\n",
       "    </tr>\n",
       "    <tr>\n",
       "      <th>3</th>\n",
       "      <td>2017-01-05</td>\n",
       "      <td>3950.0</td>\n",
       "    </tr>\n",
       "    <tr>\n",
       "      <th>4</th>\n",
       "      <td>2017-01-06</td>\n",
       "      <td>4000.0</td>\n",
       "    </tr>\n",
       "    <tr>\n",
       "      <th>5</th>\n",
       "      <td>2017-01-09</td>\n",
       "      <td>4020.0</td>\n",
       "    </tr>\n",
       "    <tr>\n",
       "      <th>6</th>\n",
       "      <td>2017-01-10</td>\n",
       "      <td>4000.0</td>\n",
       "    </tr>\n",
       "    <tr>\n",
       "      <th>7</th>\n",
       "      <td>2017-01-11</td>\n",
       "      <td>3960.0</td>\n",
       "    </tr>\n",
       "    <tr>\n",
       "      <th>8</th>\n",
       "      <td>2017-01-12</td>\n",
       "      <td>3960.0</td>\n",
       "    </tr>\n",
       "    <tr>\n",
       "      <th>9</th>\n",
       "      <td>2017-01-13</td>\n",
       "      <td>3950.0</td>\n",
       "    </tr>\n",
       "  </tbody>\n",
       "</table>\n",
       "</div>"
      ],
      "text/plain": [
       "         Date   Close\n",
       "0  2017-01-02  3980.0\n",
       "1  2017-01-03  3950.0\n",
       "2  2017-01-04  3950.0\n",
       "3  2017-01-05  3950.0\n",
       "4  2017-01-06  4000.0\n",
       "5  2017-01-09  4020.0\n",
       "6  2017-01-10  4000.0\n",
       "7  2017-01-11  3960.0\n",
       "8  2017-01-12  3960.0\n",
       "9  2017-01-13  3950.0"
      ]
     },
     "execution_count": 8,
     "metadata": {},
     "output_type": "execute_result"
    }
   ],
   "source": [
    "# menampilkan data tanggal dan close \n",
    "data = df[['Date', 'Close']]\n",
    "data.head(10)"
   ]
  },
  {
   "cell_type": "markdown",
   "id": "fbe3c7c1",
   "metadata": {},
   "source": [
    "Perlu dilakukan perubahan untuk column \"Date\" dari objectstring menjadi dateformat. perubahan dilakaukan karena data yang ingin dilihat adalah perkembangan harga dari tahun ke tahin, bukkan hari ke hari. "
   ]
  },
  {
   "cell_type": "code",
   "execution_count": 9,
   "id": "d33e2082",
   "metadata": {},
   "outputs": [
    {
     "data": {
      "text/html": [
       "<div>\n",
       "<style scoped>\n",
       "    .dataframe tbody tr th:only-of-type {\n",
       "        vertical-align: middle;\n",
       "    }\n",
       "\n",
       "    .dataframe tbody tr th {\n",
       "        vertical-align: top;\n",
       "    }\n",
       "\n",
       "    .dataframe thead th {\n",
       "        text-align: right;\n",
       "    }\n",
       "</style>\n",
       "<table border=\"1\" class=\"dataframe\">\n",
       "  <thead>\n",
       "    <tr style=\"text-align: right;\">\n",
       "      <th></th>\n",
       "      <th>Close</th>\n",
       "    </tr>\n",
       "    <tr>\n",
       "      <th>Date</th>\n",
       "      <th></th>\n",
       "    </tr>\n",
       "  </thead>\n",
       "  <tbody>\n",
       "    <tr>\n",
       "      <th>2017-01-02</th>\n",
       "      <td>3980.0</td>\n",
       "    </tr>\n",
       "    <tr>\n",
       "      <th>2017-01-03</th>\n",
       "      <td>3950.0</td>\n",
       "    </tr>\n",
       "    <tr>\n",
       "      <th>2017-01-04</th>\n",
       "      <td>3950.0</td>\n",
       "    </tr>\n",
       "    <tr>\n",
       "      <th>2017-01-05</th>\n",
       "      <td>3950.0</td>\n",
       "    </tr>\n",
       "    <tr>\n",
       "      <th>2017-01-06</th>\n",
       "      <td>4000.0</td>\n",
       "    </tr>\n",
       "    <tr>\n",
       "      <th>2017-01-09</th>\n",
       "      <td>4020.0</td>\n",
       "    </tr>\n",
       "    <tr>\n",
       "      <th>2017-01-10</th>\n",
       "      <td>4000.0</td>\n",
       "    </tr>\n",
       "    <tr>\n",
       "      <th>2017-01-11</th>\n",
       "      <td>3960.0</td>\n",
       "    </tr>\n",
       "    <tr>\n",
       "      <th>2017-01-12</th>\n",
       "      <td>3960.0</td>\n",
       "    </tr>\n",
       "    <tr>\n",
       "      <th>2017-01-13</th>\n",
       "      <td>3950.0</td>\n",
       "    </tr>\n",
       "  </tbody>\n",
       "</table>\n",
       "</div>"
      ],
      "text/plain": [
       "             Close\n",
       "Date              \n",
       "2017-01-02  3980.0\n",
       "2017-01-03  3950.0\n",
       "2017-01-04  3950.0\n",
       "2017-01-05  3950.0\n",
       "2017-01-06  4000.0\n",
       "2017-01-09  4020.0\n",
       "2017-01-10  4000.0\n",
       "2017-01-11  3960.0\n",
       "2017-01-12  3960.0\n",
       "2017-01-13  3950.0"
      ]
     },
     "execution_count": 9,
     "metadata": {},
     "output_type": "execute_result"
    }
   ],
   "source": [
    "# mengubah 'Date' menjadi datetime\n",
    "data.index = data['Date'].map(lambda d: pd.to_datetime(d, format = '%Y-%m-%d'))\n",
    "data.drop('Date',axis=1, inplace=True)\n",
    "data.head(10)"
   ]
  },
  {
   "cell_type": "markdown",
   "id": "cee60eef",
   "metadata": {},
   "source": [
    "Dalam proses data understanding, visualisasi yang digunakan berupa grafik karena memudahkan untuk mengetahhui perkembangan harga saham TLKM dari datased dan periode yang ada."
   ]
  },
  {
   "cell_type": "code",
   "execution_count": 10,
   "id": "8309a316",
   "metadata": {},
   "outputs": [
    {
     "data": {
      "text/plain": [
       "<matplotlib.legend.Legend at 0x1d47effe8b0>"
      ]
     },
     "execution_count": 10,
     "metadata": {},
     "output_type": "execute_result"
    },
    {
     "data": {
      "image/png": "[encoded data removed]",
      "text/plain": [
       "<Figure size 1440x720 with 1 Axes>"
      ]
     },
     "metadata": {},
     "output_type": "display_data"
    }
   ],
   "source": [
    "visual_plot =df[['Date','Close', 'Open', 'High']]\n",
    "\n",
    "plt.figure(figsize=(20,10))\n",
    "\n",
    "sns.lineplot(y=visual_plot['Open'], color=\"r\", x=visual_plot['Date'])\n",
    "sns.lineplot(y=visual_plot['Close'], color=\"g\", x=visual_plot['Date'])\n",
    "sns.lineplot(y=visual_plot['High'], color=\"cyan\", x=visual_plot['Date'])\n",
    "\n",
    "plt.xlabel('Year', fontsize=20)\n",
    "plt.ylabel('Harga (IDR)', fontsize=20)\n",
    "plt.legend(['Open','Close','High'], loc='upper right')"
   ]
  },
  {
   "cell_type": "markdown",
   "id": "73d267bb",
   "metadata": {},
   "source": [
    "### Tahap 3 Data preparation"
   ]
  },
  {
   "cell_type": "markdown",
   "id": "2aab1e1d",
   "metadata": {},
   "source": [
    "Pertama melekukan pengecekan terhdap data apakah dataset aman dari missing value dan Duplikasi (tidak terdapat duplikasi)."
   ]
  },
  {
   "cell_type": "code",
   "execution_count": 11,
   "id": "54ac81e7",
   "metadata": {},
   "outputs": [
    {
     "data": {
      "text/plain": [
       "Date         0\n",
       "Open         0\n",
       "High         0\n",
       "Low          0\n",
       "Close        0\n",
       "Adj Close    0\n",
       "Volume       0\n",
       "dtype: int64"
      ]
     },
     "execution_count": 11,
     "metadata": {},
     "output_type": "execute_result"
    }
   ],
   "source": [
    "# Menampilkan Missing Value (n.a)\n",
    "df.isnull().sum()"
   ]
  },
  {
   "cell_type": "code",
   "execution_count": 12,
   "id": "b5c1c191",
   "metadata": {},
   "outputs": [
    {
     "name": "stdout",
     "output_type": "stream",
     "text": [
      "Empty DataFrame\n",
      "Columns: [Date, Open, High, Low, Close, Adj Close, Volume]\n",
      "Index: []\n"
     ]
    }
   ],
   "source": [
    "# Mengecek duplikasi\n",
    "check_duplicates = df[df.duplicated()]\n",
    "print(check_duplicates)"
   ]
  },
  {
   "cell_type": "markdown",
   "id": "ce9dffcc",
   "metadata": {},
   "source": [
    "Setelah dilakukan pengecekan missing value dan duplikasi, keduanya tidak ditemukan pada dataset."
   ]
  },
  {
   "cell_type": "code",
   "execution_count": null,
   "id": "0ce2fc50",
   "metadata": {},
   "outputs": [],
   "source": []
  },
  {
   "cell_type": "code",
   "execution_count": 13,
   "id": "d1816aca",
   "metadata": {},
   "outputs": [
    {
     "data": {
      "text/plain": [
       "1137"
      ]
     },
     "execution_count": 13,
     "metadata": {},
     "output_type": "execute_result"
    }
   ],
   "source": [
    "data = data.filter(['Close'])\n",
    "dataset = data.values\n",
    "\n",
    "#menghitung jumlah baris yang dilatih.\n",
    "training_data_len = math.ceil( len(dataset) * .8 )\n",
    "\n",
    "training_data_len"
   ]
  },
  {
   "cell_type": "code",
   "execution_count": 14,
   "id": "719e3614",
   "metadata": {},
   "outputs": [
    {
     "data": {
      "text/plain": [
       "array([[0.63392857],\n",
       "       [0.62053571],\n",
       "       [0.62053571],\n",
       "       ...,\n",
       "       [0.85714286],\n",
       "       [0.89285714],\n",
       "       [0.90178571]])"
      ]
     },
     "execution_count": 14,
     "metadata": {},
     "output_type": "execute_result"
    }
   ],
   "source": [
    "#mengukur data\n",
    "scaler = MinMaxScaler(feature_range=(0,1))\n",
    "scaled_data = scaler.fit_transform(dataset)\n",
    "\n",
    "scaled_data"
   ]
  },
  {
   "cell_type": "code",
   "execution_count": 15,
   "id": "da19fefe",
   "metadata": {},
   "outputs": [
    {
     "name": "stdout",
     "output_type": "stream",
     "text": [
      "[array([0.63392857, 0.62053571, 0.62053571, 0.62053571, 0.64285714,\n",
      "       0.65178571, 0.64285714, 0.625     , 0.625     , 0.62053571,\n",
      "       0.62053571, 0.62946429, 0.625     , 0.62946429, 0.56696429,\n",
      "       0.57142857, 0.60267857, 0.59821429, 0.61607143, 0.59375   ,\n",
      "       0.58035714, 0.58482143, 0.61607143, 0.62053571, 0.62053571,\n",
      "       0.625     , 0.60714286, 0.58482143, 0.58482143, 0.59375   ,\n",
      "       0.60714286, 0.58035714, 0.58035714, 0.58482143, 0.58482143,\n",
      "       0.58482143, 0.58928571, 0.58928571, 0.57142857, 0.57142857,\n",
      "       0.58482143, 0.57589286, 0.57589286, 0.56696429, 0.57589286,\n",
      "       0.60714286, 0.62053571, 0.58928571, 0.625     , 0.62053571,\n",
      "       0.62053571, 0.66517857, 0.66071429, 0.70535714, 0.69196429,\n",
      "       0.6875    , 0.68303571, 0.67410714, 0.68303571, 0.67857143,\n",
      "       0.67857143, 0.70982143, 0.70535714, 0.70089286, 0.71875   ,\n",
      "       0.75446429, 0.75446429, 0.71875   , 0.70089286, 0.6875    ,\n",
      "       0.70982143, 0.70982143, 0.68303571, 0.64732143, 0.67410714,\n",
      "       0.67410714, 0.69196429, 0.83035714, 0.83035714, 0.82142857])]\n",
      "[0.8080357142857142]\n",
      "\n"
     ]
    }
   ],
   "source": [
    "#membuat dataset latih\n",
    "#membuat scaled dataset\n",
    "train_data = scaled_data[0:training_data_len , :]\n",
    "#membagi data ke x_train dan y_train dataset\n",
    "x_train = []\n",
    "y_train = []\n",
    "for i in range(80, len(train_data)):\n",
    "    x_train.append(train_data[i-80:i, 0])\n",
    "    y_train.append(train_data[i,0])\n",
    "    if i<=80:\n",
    "        print(x_train)\n",
    "        print(y_train)\n",
    "        print()"
   ]
  },
  {
   "cell_type": "code",
   "execution_count": 16,
   "id": "61d0a0f1",
   "metadata": {},
   "outputs": [],
   "source": [
    "#menghubah x_train dan y_train ke dlan numpy arrays\n",
    "x_train, y_train = np.array(x_train), np.array(y_train)"
   ]
  },
  {
   "cell_type": "code",
   "execution_count": 17,
   "id": "3e512b8b",
   "metadata": {},
   "outputs": [
    {
     "data": {
      "text/plain": [
       "(1057, 80, 1)"
      ]
     },
     "execution_count": 17,
     "metadata": {},
     "output_type": "execute_result"
    }
   ],
   "source": [
    "#reshape data\n",
    "x_train = np.reshape(x_train, (x_train.shape[0], x_train.shape[1],1))\n",
    "x_train.shape"
   ]
  },
  {
   "cell_type": "markdown",
   "id": "dc73e575",
   "metadata": {},
   "source": [
    "### Tahap 4 Arsitektur Model"
   ]
  },
  {
   "cell_type": "markdown",
   "id": "cd5a87c3",
   "metadata": {},
   "source": [
    "Penggunaan LSTM sebagai input layer dan Dense sebagai output layer"
   ]
  },
  {
   "cell_type": "code",
   "execution_count": 18,
   "id": "85096e52",
   "metadata": {},
   "outputs": [],
   "source": [
    "#membangun model LSTM\n",
    "model = Sequential()\n",
    "model.add(LSTM(50, return_sequences=True, input_shape= (x_train.shape[1],1)))\n",
    "model.add(LSTM(50, return_sequences= False))\n",
    "model.add(Dense(1))"
   ]
  },
  {
   "cell_type": "markdown",
   "id": "3cf48d87",
   "metadata": {},
   "source": [
    "Menggunakan MAE metrics dan MSE sebagai loss function"
   ]
  },
  {
   "cell_type": "code",
   "execution_count": 19,
   "id": "1f0ba785",
   "metadata": {},
   "outputs": [],
   "source": [
    "#Menyusun model\n",
    "model.compile(optimizer='adam', loss='mean_squared_error')"
   ]
  },
  {
   "cell_type": "markdown",
   "id": "a86c8c83",
   "metadata": {},
   "source": [
    "### Tahap 5 Model Training Untuk Deep Learning"
   ]
  },
  {
   "cell_type": "code",
   "execution_count": 20,
   "id": "96649959",
   "metadata": {},
   "outputs": [
    {
     "name": "stdout",
     "output_type": "stream",
     "text": [
      "1057/1057 [==============================] - 37s 31ms/step - loss: 0.0050\n"
     ]
    },
    {
     "data": {
      "text/plain": [
       "<keras.callbacks.History at 0x1d4003d5a30>"
      ]
     },
     "execution_count": 20,
     "metadata": {},
     "output_type": "execute_result"
    }
   ],
   "source": [
    "#Melatih/Train model \n",
    "model.fit(x_train, y_train, batch_size=1, epochs=1)"
   ]
  },
  {
   "cell_type": "code",
   "execution_count": 21,
   "id": "0e0457c0",
   "metadata": {},
   "outputs": [],
   "source": [
    "#Membuat Testing Dataset\n",
    "#Membuat New array yang terdiri dari 'scaled dataset' dari indes 1501 sampai dengan 1975\n",
    "test_data = scaled_data[training_data_len - 80: , :]\n",
    "\n",
    "#Membentuk dataset x_test dan y_test\n",
    "x_test = []\n",
    "y_test = dataset[training_data_len:, :]\n",
    "for i in range(80, len(test_data)):\n",
    "    x_test.append(test_data[i-80:i, 0])\n",
    "    "
   ]
  },
  {
   "cell_type": "code",
   "execution_count": 22,
   "id": "373fc54c",
   "metadata": {},
   "outputs": [],
   "source": [
    "#Mengubah data ke bentuk numypy array\n",
    "x_test = np.array(x_test)"
   ]
  },
  {
   "cell_type": "code",
   "execution_count": 23,
   "id": "9fb189e1",
   "metadata": {},
   "outputs": [],
   "source": [
    "#Reshape data\n",
    "x_test = np.reshape(x_test, (x_test.shape[0], x_test.shape[1], 1 ))"
   ]
  },
  {
   "cell_type": "code",
   "execution_count": 24,
   "id": "503c9503",
   "metadata": {},
   "outputs": [
    {
     "name": "stdout",
     "output_type": "stream",
     "text": [
      "9/9 [==============================] - 1s 21ms/step\n"
     ]
    }
   ],
   "source": [
    "#membuat model prediksi harga\n",
    "predictions = model.predict(x_test)\n",
    "predictions = scaler.inverse_transform(predictions)"
   ]
  },
  {
   "cell_type": "code",
   "execution_count": 25,
   "id": "36af7ccd",
   "metadata": {},
   "outputs": [
    {
     "data": {
      "text/plain": [
       "36.90414815553477"
      ]
     },
     "execution_count": 25,
     "metadata": {},
     "output_type": "execute_result"
    }
   ],
   "source": [
    "#Menampilkan hasil root mean squared error (RMSE)\n",
    "rmse = np.sqrt( np.mean( predictions - y_test )**2 )\n",
    "rmse"
   ]
  },
  {
   "cell_type": "code",
   "execution_count": 26,
   "id": "e4e1cb3c",
   "metadata": {},
   "outputs": [
    {
     "data": {
      "text/html": [
       "<div>\n",
       "<style scoped>\n",
       "    .dataframe tbody tr th:only-of-type {\n",
       "        vertical-align: middle;\n",
       "    }\n",
       "\n",
       "    .dataframe tbody tr th {\n",
       "        vertical-align: top;\n",
       "    }\n",
       "\n",
       "    .dataframe thead th {\n",
       "        text-align: right;\n",
       "    }\n",
       "</style>\n",
       "<table border=\"1\" class=\"dataframe\">\n",
       "  <thead>\n",
       "    <tr style=\"text-align: right;\">\n",
       "      <th></th>\n",
       "      <th>Close</th>\n",
       "    </tr>\n",
       "    <tr>\n",
       "      <th>Date</th>\n",
       "      <th></th>\n",
       "    </tr>\n",
       "  </thead>\n",
       "  <tbody>\n",
       "    <tr>\n",
       "      <th>2017-01-02</th>\n",
       "      <td>3980.0</td>\n",
       "    </tr>\n",
       "    <tr>\n",
       "      <th>2017-01-03</th>\n",
       "      <td>3950.0</td>\n",
       "    </tr>\n",
       "    <tr>\n",
       "      <th>2017-01-04</th>\n",
       "      <td>3950.0</td>\n",
       "    </tr>\n",
       "    <tr>\n",
       "      <th>2017-01-05</th>\n",
       "      <td>3950.0</td>\n",
       "    </tr>\n",
       "    <tr>\n",
       "      <th>2017-01-06</th>\n",
       "      <td>4000.0</td>\n",
       "    </tr>\n",
       "    <tr>\n",
       "      <th>...</th>\n",
       "      <td>...</td>\n",
       "    </tr>\n",
       "    <tr>\n",
       "      <th>2022-08-26</th>\n",
       "      <td>4490.0</td>\n",
       "    </tr>\n",
       "    <tr>\n",
       "      <th>2022-08-29</th>\n",
       "      <td>4520.0</td>\n",
       "    </tr>\n",
       "    <tr>\n",
       "      <th>2022-08-30</th>\n",
       "      <td>4480.0</td>\n",
       "    </tr>\n",
       "    <tr>\n",
       "      <th>2022-08-31</th>\n",
       "      <td>4560.0</td>\n",
       "    </tr>\n",
       "    <tr>\n",
       "      <th>2022-09-01</th>\n",
       "      <td>4580.0</td>\n",
       "    </tr>\n",
       "  </tbody>\n",
       "</table>\n",
       "<p>1421 rows × 1 columns</p>\n",
       "</div>"
      ],
      "text/plain": [
       "             Close\n",
       "Date              \n",
       "2017-01-02  3980.0\n",
       "2017-01-03  3950.0\n",
       "2017-01-04  3950.0\n",
       "2017-01-05  3950.0\n",
       "2017-01-06  4000.0\n",
       "...            ...\n",
       "2022-08-26  4490.0\n",
       "2022-08-29  4520.0\n",
       "2022-08-30  4480.0\n",
       "2022-08-31  4560.0\n",
       "2022-09-01  4580.0\n",
       "\n",
       "[1421 rows x 1 columns]"
      ]
     },
     "execution_count": 26,
     "metadata": {},
     "output_type": "execute_result"
    }
   ],
   "source": [
    "# menampilkan real data \n",
    "data"
   ]
  },
  {
   "cell_type": "markdown",
   "id": "1fdca6fd",
   "metadata": {},
   "source": [
    "### Tahap 6 Model Prediction"
   ]
  },
  {
   "cell_type": "code",
   "execution_count": 27,
   "id": "b659057b",
   "metadata": {},
   "outputs": [
    {
     "data": {
      "image/png": "[encoded data removed]",
      "text/plain": [
       "<Figure size 1152x576 with 1 Axes>"
      ]
     },
     "metadata": {},
     "output_type": "display_data"
    }
   ],
   "source": [
    "#Melakukan plot Data\n",
    "train = data[:training_data_len]\n",
    "valid = data[training_data_len:]\n",
    "valid['Predictions'] = predictions\n",
    "#Memvisualisasi data\n",
    "plt.figure(figsize=(16,8))\n",
    "plt.title('Model')\n",
    "plt.xlabel('Date', fontsize=18)\n",
    "plt.ylabel('Harga Penutupan', fontsize=18)\n",
    "plt.plot(train['Close'])\n",
    "plt.plot(valid[['Close', 'Predictions']])\n",
    "plt.legend(['Train', 'Val', 'Predictions'], loc='upper right')\n",
    "plt.show()"
   ]
  },
  {
   "cell_type": "markdown",
   "id": "8fc35f39",
   "metadata": {},
   "source": [
    "### Kesimpulan"
   ]
  },
  {
   "cell_type": "markdown",
   "id": "0e6fa08b",
   "metadata": {},
   "source": [
    "Dapat dilihat pada plot data tersebut, garis biru menunjukan hasil data model yang dilatih. Warna orange merupakan nilai aktual untuk sisa hari selanjutnya. dan warna kunigng menunjukan adalah predksi yang dihasilkan melalui model yang telah dibuat. pada garis orange dan kuning, jaraknya sangat dekat yang mengartikan bahwa model yang dibuat cukup baik untuk melakukan prediksi harga."
   ]
  },
  {
   "cell_type": "code",
   "execution_count": null,
   "id": "7a6b4a0a",
   "metadata": {},
   "outputs": [],
   "source": []
  }
 ],
 "metadata": {
  "kernelspec": {
   "display_name": "Python 3 (ipykernel)",
   "language": "python",
   "name": "python3"
  },
  "language_info": {
   "codemirror_mode": {
    "name": "ipython",
    "version": 3
   },
   "file_extension": ".py",
   "mimetype": "text/x-python",
   "name": "python",
   "nbconvert_exporter": "python",
   "pygments_lexer": "ipython3",
   "version": "3.9.12"
  }
 },
 "nbformat": 4,
 "nbformat_minor": 5
}
